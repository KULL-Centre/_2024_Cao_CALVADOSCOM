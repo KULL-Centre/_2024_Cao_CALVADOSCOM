{
 "cells": [
  {
   "cell_type": "code",
   "execution_count": 4,
   "metadata": {},
   "outputs": [],
   "source": [
    "import numpy as np\n",
    "import pandas as pd\n",
    "import glob\n",
    "%matplotlib inline\n",
    "import matplotlib.pyplot as plt\n",
    "import matplotlib as mpl\n",
    "from matplotlib.lines import Line2D\n",
    "plt.rcParams.update({ 'font.size': 12 })"
   ]
  },
  {
   "cell_type": "code",
   "execution_count": 5,
   "metadata": {},
   "outputs": [
    {
     "name": "stdout",
     "output_type": "stream",
     "text": [
      "exp143.dat exp99.dat\r\n"
     ]
    }
   ],
   "source": [
    "!ls expPREs"
   ]
  },
  {
   "cell_type": "code",
   "execution_count": 6,
   "metadata": {},
   "outputs": [],
   "source": [
    "def loadExpPREs(labels,folder,resnums):\n",
    "    value = {}\n",
    "    error = {}\n",
    "    for label in labels:\n",
    "        value[label], error[label] = np.loadtxt(folder+'/exp-{:d}.dat'.format(label),unpack=True)\n",
    "    v = pd.DataFrame(value,index=resnums,)\n",
    "    v.rename_axis('residue', inplace=True)\n",
    "    v.rename_axis('label', axis='columns',inplace=True)\n",
    "    e = pd.DataFrame(error,index=resnums)\n",
    "    e.rename_axis('residue', inplace=True)\n",
    "    e.rename_axis('label', axis='columns',inplace=True)\n",
    "    return pd.concat(dict(value=v,error=e),axis=1)"
   ]
  },
  {
   "cell_type": "code",
   "execution_count": 7,
   "metadata": {},
   "outputs": [
    {
     "name": "stdout",
     "output_type": "stream",
     "text": [
      "mkdir: expPREs: File exists\n",
      "rm: expPREs/exp285.dat: No such file or directory\n",
      "rm: expPREs/exp329.dat: No such file or directory\n"
     ]
    }
   ],
   "source": [
    "!mkdir expPREs\n",
    "for label in [285,329]:\n",
    "    for file in glob.glob('WT_{:d}.dat'.format(label)):\n",
    "        x,y,yerr = np.loadtxt(file, usecols=(0,1,2), unpack=True)\n",
    "        #y[y==100] = np.nan\n",
    "        gamma2 = np.full(155, fill_value=np.NaN)\n",
    "        gamma2[x.astype(int)-187] = y\n",
    "        gamma2err = np.full(155, fill_value=np.NaN)\n",
    "        gamma2err[x.astype(int)-187] = yerr\n",
    "        !rm expPREs/exp{label}.dat\n",
    "        i_ratio = 10 * np.exp(-gamma2 * 0.01) / ( 10 + gamma2 )\n",
    "        der = -(0.01*(10+gamma2)+1)*10*np.exp(-gamma2 * 0.01)/(10+gamma2)/(10+gamma2)\n",
    "        i_ratio_err = np.abs(gamma2err*der)\n",
    "        np.savetxt('expPREs/exp-{:d}.dat'.format(label-186),np.c_[i_ratio,i_ratio_err])"
   ]
  },
  {
   "cell_type": "code",
   "execution_count": 8,
   "metadata": {},
   "outputs": [
    {
     "data": {
      "text/plain": [
       "Text(0.5, 0, 'Residue #')"
      ]
     },
     "execution_count": 8,
     "metadata": {},
     "output_type": "execute_result"
    },
    {
     "data": {
      "image/png": "[encoded data removed]",
      "text/plain": [
       "<Figure size 432x432 with 2 Axes>"
      ]
     },
     "metadata": {
      "needs_background": "light"
     },
     "output_type": "display_data"
    }
   ],
   "source": [
    "fig, axes = plt.subplots(2, 1, sharex=True, sharey=True, figsize=(6,6))\n",
    "\n",
    "exp = loadExpPREs([99,143],'expPREs',np.arange(1,156))\n",
    "for ax,label in zip(axes.flatten(),exp.value):\n",
    "    ax.errorbar(exp.index,exp.value[label],exp.error[label], color=plt.cm.tab10(0), lw=0, \n",
    "            marker='o', ms=5, elinewidth=2, capsize=3, capthick=1.5)\n",
    "    ax.set_xticks(range(1,exp.index.max(),20))\n",
    "\n",
    "for ax in axes.flatten():\n",
    "    ax.set_ylabel('$I_{para}$ / $I_{dia}$')\n",
    "    \n",
    "axes.flatten()[-1].set_xlabel('Residue #')"
   ]
  },
  {
   "cell_type": "code",
   "execution_count": null,
   "metadata": {},
   "outputs": [],
   "source": []
  }
 ],
 "metadata": {
  "kernelspec": {
   "display_name": "Python 3",
   "language": "python",
   "name": "python3"
  },
  "language_info": {
   "codemirror_mode": {
    "name": "ipython",
    "version": 3
   },
   "file_extension": ".py",
   "mimetype": "text/x-python",
   "name": "python",
   "nbconvert_exporter": "python",
   "pygments_lexer": "ipython3",
   "version": "3.7.6"
  }
 },
 "nbformat": 4,
 "nbformat_minor": 2
}
